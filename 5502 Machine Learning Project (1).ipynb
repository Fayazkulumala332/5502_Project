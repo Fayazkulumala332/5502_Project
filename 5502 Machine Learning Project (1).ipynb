{
 "cells": [
  {
   "cell_type": "code",
   "execution_count": 1,
   "id": "0cf2a27b-c69c-4690-bc0a-4523adf5e200",
   "metadata": {},
   "outputs": [],
   "source": [
    "# Importing libraries for Data handling and analysis\n",
    "import numpy as np \n",
    "import pandas as pd \n",
    "import seaborn as sns\n",
    "\n",
    "# Libraries for plotting\n",
    "\n",
    "import matplotlib.pyplot as plt\n",
    "%matplotlib inline\n",
    "\n",
    "# Modelling Algorithms\n",
    "\n",
    "from sklearn.linear_model import LogisticRegression\n",
    "\n",
    "#Model building\n",
    "\n",
    "from patsy import dmatrices\n",
    "import sklearn"
   ]
  },
  {
   "cell_type": "code",
   "execution_count": 4,
   "id": "706c7ce9-578a-4750-801a-600cf26d1c7e",
   "metadata": {},
   "outputs": [],
   "source": [
    "# Importing the Dataset\n",
    "df = pd.read_csv(\"IBM Attrition Data.csv\")"
   ]
  },
  {
   "cell_type": "code",
   "execution_count": 5,
   "id": "9e835e6a-ae3c-4b65-b4ce-49832d0ae3a0",
   "metadata": {},
   "outputs": [
    {
     "data": {
      "text/html": [
       "<div>\n",
       "<style scoped>\n",
       "    .dataframe tbody tr th:only-of-type {\n",
       "        vertical-align: middle;\n",
       "    }\n",
       "\n",
       "    .dataframe tbody tr th {\n",
       "        vertical-align: top;\n",
       "    }\n",
       "\n",
       "    .dataframe thead th {\n",
       "        text-align: right;\n",
       "    }\n",
       "</style>\n",
       "<table border=\"1\" class=\"dataframe\">\n",
       "  <thead>\n",
       "    <tr style=\"text-align: right;\">\n",
       "      <th></th>\n",
       "      <th>Age</th>\n",
       "      <th>Attrition</th>\n",
       "      <th>Department</th>\n",
       "      <th>DistanceFromHome</th>\n",
       "      <th>Education</th>\n",
       "      <th>EducationField</th>\n",
       "      <th>EnvironmentSatisfaction</th>\n",
       "      <th>JobSatisfaction</th>\n",
       "      <th>MaritalStatus</th>\n",
       "      <th>MonthlyIncome</th>\n",
       "      <th>NumCompaniesWorked</th>\n",
       "      <th>WorkLifeBalance</th>\n",
       "      <th>YearsAtCompany</th>\n",
       "    </tr>\n",
       "  </thead>\n",
       "  <tbody>\n",
       "    <tr>\n",
       "      <th>0</th>\n",
       "      <td>41</td>\n",
       "      <td>Yes</td>\n",
       "      <td>Sales</td>\n",
       "      <td>1</td>\n",
       "      <td>2</td>\n",
       "      <td>Life Sciences</td>\n",
       "      <td>2</td>\n",
       "      <td>4</td>\n",
       "      <td>Single</td>\n",
       "      <td>5993</td>\n",
       "      <td>8</td>\n",
       "      <td>1</td>\n",
       "      <td>6</td>\n",
       "    </tr>\n",
       "    <tr>\n",
       "      <th>1</th>\n",
       "      <td>49</td>\n",
       "      <td>No</td>\n",
       "      <td>Research &amp; Development</td>\n",
       "      <td>8</td>\n",
       "      <td>1</td>\n",
       "      <td>Life Sciences</td>\n",
       "      <td>3</td>\n",
       "      <td>2</td>\n",
       "      <td>Married</td>\n",
       "      <td>5130</td>\n",
       "      <td>1</td>\n",
       "      <td>3</td>\n",
       "      <td>10</td>\n",
       "    </tr>\n",
       "    <tr>\n",
       "      <th>2</th>\n",
       "      <td>37</td>\n",
       "      <td>Yes</td>\n",
       "      <td>Research &amp; Development</td>\n",
       "      <td>2</td>\n",
       "      <td>2</td>\n",
       "      <td>Other</td>\n",
       "      <td>4</td>\n",
       "      <td>3</td>\n",
       "      <td>Single</td>\n",
       "      <td>2090</td>\n",
       "      <td>6</td>\n",
       "      <td>3</td>\n",
       "      <td>0</td>\n",
       "    </tr>\n",
       "    <tr>\n",
       "      <th>3</th>\n",
       "      <td>33</td>\n",
       "      <td>No</td>\n",
       "      <td>Research &amp; Development</td>\n",
       "      <td>3</td>\n",
       "      <td>4</td>\n",
       "      <td>Life Sciences</td>\n",
       "      <td>4</td>\n",
       "      <td>3</td>\n",
       "      <td>Married</td>\n",
       "      <td>2909</td>\n",
       "      <td>1</td>\n",
       "      <td>3</td>\n",
       "      <td>8</td>\n",
       "    </tr>\n",
       "    <tr>\n",
       "      <th>4</th>\n",
       "      <td>27</td>\n",
       "      <td>No</td>\n",
       "      <td>Research &amp; Development</td>\n",
       "      <td>2</td>\n",
       "      <td>1</td>\n",
       "      <td>Medical</td>\n",
       "      <td>1</td>\n",
       "      <td>2</td>\n",
       "      <td>Married</td>\n",
       "      <td>3468</td>\n",
       "      <td>9</td>\n",
       "      <td>3</td>\n",
       "      <td>2</td>\n",
       "    </tr>\n",
       "  </tbody>\n",
       "</table>\n",
       "</div>"
      ],
      "text/plain": [
       "   Age Attrition              Department  DistanceFromHome  Education  \\\n",
       "0   41       Yes                   Sales                 1          2   \n",
       "1   49        No  Research & Development                 8          1   \n",
       "2   37       Yes  Research & Development                 2          2   \n",
       "3   33        No  Research & Development                 3          4   \n",
       "4   27        No  Research & Development                 2          1   \n",
       "\n",
       "  EducationField  EnvironmentSatisfaction  JobSatisfaction MaritalStatus  \\\n",
       "0  Life Sciences                        2                4        Single   \n",
       "1  Life Sciences                        3                2       Married   \n",
       "2          Other                        4                3        Single   \n",
       "3  Life Sciences                        4                3       Married   \n",
       "4        Medical                        1                2       Married   \n",
       "\n",
       "   MonthlyIncome  NumCompaniesWorked  WorkLifeBalance  YearsAtCompany  \n",
       "0           5993                   8                1               6  \n",
       "1           5130                   1                3              10  \n",
       "2           2090                   6                3               0  \n",
       "3           2909                   1                3               8  \n",
       "4           3468                   9                3               2  "
      ]
     },
     "execution_count": 5,
     "metadata": {},
     "output_type": "execute_result"
    }
   ],
   "source": [
    "# Display first five rows of Data\n",
    "df.head()"
   ]
  },
  {
   "cell_type": "code",
   "execution_count": 6,
   "id": "710716bf-a7c5-4800-a4e8-6ac7e8ecd092",
   "metadata": {},
   "outputs": [
    {
     "data": {
      "text/plain": [
       "(1470, 13)"
      ]
     },
     "execution_count": 6,
     "metadata": {},
     "output_type": "execute_result"
    }
   ],
   "source": [
    "#Displaying no:of rows and columns\n",
    "df.shape"
   ]
  },
  {
   "cell_type": "code",
   "execution_count": 7,
   "id": "ff92e7e4-3ba1-417a-b393-d08c6c2a5a58",
   "metadata": {},
   "outputs": [
    {
     "name": "stdout",
     "output_type": "stream",
     "text": [
      "['Age' 'Attrition' 'Department' 'DistanceFromHome' 'Education'\n",
      " 'EducationField' 'EnvironmentSatisfaction' 'JobSatisfaction'\n",
      " 'MaritalStatus' 'MonthlyIncome' 'NumCompaniesWorked' 'WorkLifeBalance'\n",
      " 'YearsAtCompany']\n"
     ]
    }
   ],
   "source": [
    "Names = df.columns.values\n",
    "print(Names)"
   ]
  },
  {
   "cell_type": "code",
   "execution_count": 8,
   "id": "05edde59-16f5-47ad-9448-4859f4f33341",
   "metadata": {},
   "outputs": [
    {
     "data": {
      "text/plain": [
       "Age                        0\n",
       "Attrition                  0\n",
       "Department                 0\n",
       "DistanceFromHome           0\n",
       "Education                  0\n",
       "EducationField             0\n",
       "EnvironmentSatisfaction    0\n",
       "JobSatisfaction            0\n",
       "MaritalStatus              0\n",
       "MonthlyIncome              0\n",
       "NumCompaniesWorked         0\n",
       "WorkLifeBalance            0\n",
       "YearsAtCompany             0\n",
       "dtype: int64"
      ]
     },
     "execution_count": 8,
     "metadata": {},
     "output_type": "execute_result"
    }
   ],
   "source": [
    "# Checking for Missing values\n",
    "df.isnull().sum()"
   ]
  },
  {
   "cell_type": "code",
   "execution_count": 9,
   "id": "cca0bc01-ef6f-4c69-810a-1f563f1074fe",
   "metadata": {},
   "outputs": [
    {
     "data": {
      "text/plain": [
       "No     1233\n",
       "Yes     237\n",
       "Name: Attrition, dtype: int64"
      ]
     },
     "execution_count": 9,
     "metadata": {},
     "output_type": "execute_result"
    }
   ],
   "source": [
    "# Displaying the count of 'yes' and 'no' values of the target variable\n",
    "df['Attrition'].value_counts()"
   ]
  },
  {
   "cell_type": "code",
   "execution_count": 10,
   "id": "438b4344-4fb0-48c3-ba8a-bdd26932e085",
   "metadata": {},
   "outputs": [
    {
     "data": {
      "image/png": "[encoded data removed]",
      "text/plain": [
       "<Figure size 720x576 with 1 Axes>"
      ]
     },
     "metadata": {
      "needs_background": "light"
     },
     "output_type": "display_data"
    }
   ],
   "source": [
    "#Histogram for Age\n",
    "plt.figure(figsize=(10,8))\n",
    "df['Age'].hist(bins=70)\n",
    "plt.title(\"Age Distribution Of Employees\")\n",
    "plt.xlabel(\"Age\")\n",
    "plt.ylabel(\"# of Employees\")\n",
    "plt.show()"
   ]
  },
  {
   "cell_type": "code",
   "execution_count": 11,
   "id": "531bf789-4809-4f20-bb90-0fd38885661f",
   "metadata": {},
   "outputs": [
    {
     "data": {
      "image/png": "[encoded data removed]",
      "text/plain": [
       "<Figure size 1008x720 with 1 Axes>"
      ]
     },
     "metadata": {
      "needs_background": "light"
     },
     "output_type": "display_data"
    }
   ],
   "source": [
    "# Explore Data for Attrition by Age\n",
    "plt.figure(figsize=(14,10))\n",
    "plt.scatter(df.Attrition,df.Age, alpha=.55)\n",
    "plt.title(\"Attrition by Age \")\n",
    "plt.ylabel(\"Age\")\n",
    "plt.grid(visible=True, which='major',axis='y')\n",
    "plt.show()"
   ]
  },
  {
   "cell_type": "code",
   "execution_count": 12,
   "id": "fdc547cf-274f-4c9a-b77d-e85776d8be95",
   "metadata": {},
   "outputs": [
    {
     "data": {
      "image/png": "[encoded data removed]",
      "text/plain": [
       "<Figure size 864x288 with 1 Axes>"
      ]
     },
     "metadata": {
      "needs_background": "light"
     },
     "output_type": "display_data"
    }
   ],
   "source": [
    "# Show the number of employees that left and stayed by age\n",
    "fig_dims = (12, 4)\n",
    "fig, ax = plt.subplots(figsize=fig_dims)\n",
    "sns.countplot(x='Age', hue='Attrition', data=df, palette=\"colorblind\", ax=ax, edgecolor=sns.color_palette(\"dark\",n_colors=1));"
   ]
  },
  {
   "cell_type": "code",
   "execution_count": 13,
   "id": "a8f4ac4a-7f83-4c6e-b553-ea95bf4bbbef",
   "metadata": {},
   "outputs": [
    {
     "data": {
      "image/png": "[encoded data removed]",
      "text/plain": [
       "<Figure size 864x288 with 1 Axes>"
      ]
     },
     "metadata": {
      "needs_background": "light"
     },
     "output_type": "display_data"
    }
   ],
   "source": [
    "# Show the number of employees that left and stayed by Department\n",
    "fig_dims = (12, 4)\n",
    "fig, ax = plt.subplots(figsize=fig_dims)\n",
    "sns.countplot(x='Department', hue='Attrition', data=df, palette=\"colorblind\", ax=ax, edgecolor=sns.color_palette(\"dark\",n_colors=1));"
   ]
  },
  {
   "cell_type": "code",
   "execution_count": 14,
   "id": "b4d4d4f7-28dc-4fcf-a319-e7aacb2d8c49",
   "metadata": {},
   "outputs": [
    {
     "data": {
      "image/png": "[encoded data removed]",
      "text/plain": [
       "<Figure size 864x288 with 1 Axes>"
      ]
     },
     "metadata": {
      "needs_background": "light"
     },
     "output_type": "display_data"
    }
   ],
   "source": [
    "# Show the number of employees that left and stayed by DistanceFromHome\n",
    "fig_dims = (12, 4)\n",
    "fig, ax = plt.subplots(figsize=fig_dims)\n",
    "sns.countplot(x='DistanceFromHome', hue='Attrition', data=df, palette=\"colorblind\", ax=ax, edgecolor=sns.color_palette(\"dark\",n_colors=1));"
   ]
  },
  {
   "cell_type": "code",
   "execution_count": 15,
   "id": "0ef8eeff-09e8-4c0f-93ef-820043ec8e14",
   "metadata": {},
   "outputs": [
    {
     "data": {
      "image/png": "[encoded data removed]",
      "text/plain": [
       "<Figure size 864x288 with 1 Axes>"
      ]
     },
     "metadata": {
      "needs_background": "light"
     },
     "output_type": "display_data"
    }
   ],
   "source": [
    "# Show the number of employees that left and stayed by Education\n",
    "fig_dims = (12, 4)\n",
    "fig, ax = plt.subplots(figsize=fig_dims)\n",
    "sns.countplot(x='Education', hue='Attrition', data=df, palette=\"colorblind\", ax=ax, edgecolor=sns.color_palette(\"dark\",n_colors=1));"
   ]
  },
  {
   "cell_type": "code",
   "execution_count": 16,
   "id": "6c37fb5d-1d97-4d99-9f25-f475f14b0802",
   "metadata": {},
   "outputs": [
    {
     "data": {
      "image/png": "[encoded data removed]",
      "text/plain": [
       "<Figure size 864x288 with 1 Axes>"
      ]
     },
     "metadata": {
      "needs_background": "light"
     },
     "output_type": "display_data"
    }
   ],
   "source": [
    "# Show the number of employees that left and stayed by EducationField\n",
    "fig_dims = (12, 4)\n",
    "fig, ax = plt.subplots(figsize=fig_dims)\n",
    "sns.countplot(x='EducationField', hue='Attrition', data=df, palette=\"colorblind\", ax=ax, edgecolor=sns.color_palette(\"dark\",n_colors=1));"
   ]
  },
  {
   "cell_type": "code",
   "execution_count": 17,
   "id": "d4321568-9106-4c20-94ff-22fe6a552133",
   "metadata": {},
   "outputs": [
    {
     "data": {
      "image/png": "[encoded data removed]",
      "text/plain": [
       "<Figure size 864x288 with 1 Axes>"
      ]
     },
     "metadata": {
      "needs_background": "light"
     },
     "output_type": "display_data"
    }
   ],
   "source": [
    "# Show the number of employees that left and stayed by EnvironmentSatisfaction\n",
    "fig_dims = (12, 4)\n",
    "fig, ax = plt.subplots(figsize=fig_dims)\n",
    "sns.countplot(x='EnvironmentSatisfaction', hue='Attrition', data=df, palette=\"colorblind\", ax=ax, edgecolor=sns.color_palette(\"dark\",n_colors=1));"
   ]
  },
  {
   "cell_type": "code",
   "execution_count": 18,
   "id": "4370bf59-d43c-4d89-9ff1-4abc44beaff1",
   "metadata": {},
   "outputs": [
    {
     "data": {
      "image/png": "[encoded data removed]",
      "text/plain": [
       "<Figure size 864x288 with 1 Axes>"
      ]
     },
     "metadata": {
      "needs_background": "light"
     },
     "output_type": "display_data"
    }
   ],
   "source": [
    "# Show the number of employees that left and stayed by JobSatisfaction\n",
    "fig_dims = (12, 4)\n",
    "fig, ax = plt.subplots(figsize=fig_dims)\n",
    "sns.countplot(x='JobSatisfaction', hue='Attrition', data=df, palette=\"colorblind\", ax=ax, edgecolor=sns.color_palette(\"dark\",n_colors=1));"
   ]
  },
  {
   "cell_type": "code",
   "execution_count": 19,
   "id": "8fe726a1-67f7-4960-88b2-7c0a3b06c6b2",
   "metadata": {},
   "outputs": [
    {
     "data": {
      "image/png": "[encoded data removed]",
      "text/plain": [
       "<Figure size 864x288 with 1 Axes>"
      ]
     },
     "metadata": {
      "needs_background": "light"
     },
     "output_type": "display_data"
    }
   ],
   "source": [
    "# Show the number of employees that left and stayed by MaritalStatus\n",
    "fig_dims = (12, 4)\n",
    "fig, ax = plt.subplots(figsize=fig_dims)\n",
    "sns.countplot(x='MaritalStatus', hue='Attrition', data=df, palette=\"colorblind\", ax=ax, edgecolor=sns.color_palette(\"dark\",n_colors=1));"
   ]
  },
  {
   "cell_type": "code",
   "execution_count": 20,
   "id": "f4fe74e1-5abd-458b-a06e-16018d5950d3",
   "metadata": {},
   "outputs": [
    {
     "data": {
      "image/png": "[encoded data removed]",
      "text/plain": [
       "<Figure size 864x288 with 1 Axes>"
      ]
     },
     "metadata": {
      "needs_background": "light"
     },
     "output_type": "display_data"
    }
   ],
   "source": [
    "# Show the number of employees that left and stayed by MonthlyIncome\n",
    "fig_dims = (12, 4)\n",
    "fig, ax = plt.subplots(figsize=fig_dims)\n",
    "sns.countplot(x='MonthlyIncome', hue='Attrition', data=df, palette=\"colorblind\", ax=ax, edgecolor=sns.color_palette(\"dark\",n_colors=1));"
   ]
  },
  {
   "cell_type": "code",
   "execution_count": 21,
   "id": "3c2f0d95-c730-4009-a9c8-4e114d02f8e2",
   "metadata": {},
   "outputs": [
    {
     "data": {
      "image/png": "[encoded data removed]",
      "text/plain": [
       "<Figure size 864x288 with 1 Axes>"
      ]
     },
     "metadata": {
      "needs_background": "light"
     },
     "output_type": "display_data"
    }
   ],
   "source": [
    "# Show the number of employees that left and stayed by Number of Companies worked\n",
    "fig_dims = (12, 4)\n",
    "fig, ax = plt.subplots(figsize=fig_dims)\n",
    "sns.countplot(x='NumCompaniesWorked', hue='Attrition', data=df, palette=\"colorblind\", ax=ax, edgecolor=sns.color_palette(\"dark\",n_colors=1));"
   ]
  },
  {
   "cell_type": "code",
   "execution_count": 22,
   "id": "5ae9a980-8fc7-438a-a789-e65f26933f87",
   "metadata": {},
   "outputs": [
    {
     "data": {
      "image/png": "[encoded data removed]",
      "text/plain": [
       "<Figure size 864x288 with 1 Axes>"
      ]
     },
     "metadata": {
      "needs_background": "light"
     },
     "output_type": "display_data"
    }
   ],
   "source": [
    "# Show the number of employees that left and stayed by Work life balance\n",
    "fig_dims = (12, 4)\n",
    "fig, ax = plt.subplots(figsize=fig_dims)\n",
    "sns.countplot(x='WorkLifeBalance', hue='Attrition', data=df, palette=\"colorblind\", ax=ax, edgecolor=sns.color_palette(\"dark\",n_colors=1));"
   ]
  },
  {
   "cell_type": "code",
   "execution_count": 23,
   "id": "bc08a9fb-3ba8-4bd6-8425-5d7b77c4fe79",
   "metadata": {},
   "outputs": [
    {
     "data": {
      "image/png": "[encoded data removed]",
      "text/plain": [
       "<Figure size 864x288 with 1 Axes>"
      ]
     },
     "metadata": {
      "needs_background": "light"
     },
     "output_type": "display_data"
    }
   ],
   "source": [
    "# Show the number of employees that left and stayed by Years worked at company\n",
    "fig_dims = (12, 4)\n",
    "fig, ax = plt.subplots(figsize=fig_dims)\n",
    "sns.countplot(x='YearsAtCompany', hue='Attrition', data=df, palette=\"colorblind\", ax=ax, edgecolor=sns.color_palette(\"dark\",n_colors=1));"
   ]
  },
  {
   "cell_type": "code",
   "execution_count": 24,
   "id": "f44631ec-66f1-46ae-a65f-5c60fd2d5a70",
   "metadata": {},
   "outputs": [
    {
     "data": {
      "image/png": "[encoded data removed]",
      "text/plain": [
       "<Figure size 576x432 with 1 Axes>"
      ]
     },
     "metadata": {
      "needs_background": "light"
     },
     "output_type": "display_data"
    }
   ],
   "source": [
    "# Explore Data for left Employees Breakdown\n",
    "plt.figure(figsize=(8,6))\n",
    "df.Attrition.value_counts().plot(kind='barh',color='blue',alpha=.65)\n",
    "plt.title(\"Attrition breakdown \")\n",
    "plt.show()"
   ]
  },
  {
   "cell_type": "code",
   "execution_count": 25,
   "id": "5afe1733-9a7d-405a-9cbd-449a85d3451b",
   "metadata": {},
   "outputs": [
    {
     "data": {
      "image/png": "[encoded data removed]",
      "text/plain": [
       "<Figure size 720x576 with 1 Axes>"
      ]
     },
     "metadata": {
      "needs_background": "light"
     },
     "output_type": "display_data"
    }
   ],
   "source": [
    "# Explore Data for Education Field distribution\n",
    "plt.figure(figsize=(10,8))\n",
    "df.EducationField.value_counts().plot(kind='barh',color='g',alpha=.65)\n",
    "plt.title(\"Education Field Distribution\")\n",
    "plt.show()"
   ]
  },
  {
   "cell_type": "code",
   "execution_count": 26,
   "id": "18606238-ab44-4f2d-ac4f-111928e77fd7",
   "metadata": {},
   "outputs": [
    {
     "data": {
      "image/png": "[encoded data removed]",
      "text/plain": [
       "<Figure size 576x432 with 1 Axes>"
      ]
     },
     "metadata": {
      "needs_background": "light"
     },
     "output_type": "display_data"
    }
   ],
   "source": [
    "# Explore Data for Marital Status\n",
    "plt.figure(figsize=(8,6))\n",
    "df.MaritalStatus.value_counts().plot(kind='bar',alpha=.5)\n",
    "plt.show()"
   ]
  },
  {
   "cell_type": "code",
   "execution_count": 27,
   "id": "492978eb-d56c-41e6-bdae-a8187fc2b62f",
   "metadata": {},
   "outputs": [
    {
     "data": {
      "text/html": [
       "<div>\n",
       "<style scoped>\n",
       "    .dataframe tbody tr th:only-of-type {\n",
       "        vertical-align: middle;\n",
       "    }\n",
       "\n",
       "    .dataframe tbody tr th {\n",
       "        vertical-align: top;\n",
       "    }\n",
       "\n",
       "    .dataframe thead th {\n",
       "        text-align: right;\n",
       "    }\n",
       "</style>\n",
       "<table border=\"1\" class=\"dataframe\">\n",
       "  <thead>\n",
       "    <tr style=\"text-align: right;\">\n",
       "      <th></th>\n",
       "      <th>Age</th>\n",
       "      <th>DistanceFromHome</th>\n",
       "      <th>Education</th>\n",
       "      <th>EnvironmentSatisfaction</th>\n",
       "      <th>JobSatisfaction</th>\n",
       "      <th>MonthlyIncome</th>\n",
       "      <th>NumCompaniesWorked</th>\n",
       "      <th>WorkLifeBalance</th>\n",
       "      <th>YearsAtCompany</th>\n",
       "    </tr>\n",
       "  </thead>\n",
       "  <tbody>\n",
       "    <tr>\n",
       "      <th>count</th>\n",
       "      <td>1470.000000</td>\n",
       "      <td>1470.000000</td>\n",
       "      <td>1470.000000</td>\n",
       "      <td>1470.000000</td>\n",
       "      <td>1470.000000</td>\n",
       "      <td>1470.000000</td>\n",
       "      <td>1470.000000</td>\n",
       "      <td>1470.000000</td>\n",
       "      <td>1470.000000</td>\n",
       "    </tr>\n",
       "    <tr>\n",
       "      <th>mean</th>\n",
       "      <td>36.923810</td>\n",
       "      <td>9.192517</td>\n",
       "      <td>2.912925</td>\n",
       "      <td>2.721769</td>\n",
       "      <td>2.728571</td>\n",
       "      <td>6502.931293</td>\n",
       "      <td>2.693197</td>\n",
       "      <td>2.761224</td>\n",
       "      <td>7.008163</td>\n",
       "    </tr>\n",
       "    <tr>\n",
       "      <th>std</th>\n",
       "      <td>9.135373</td>\n",
       "      <td>8.106864</td>\n",
       "      <td>1.024165</td>\n",
       "      <td>1.093082</td>\n",
       "      <td>1.102846</td>\n",
       "      <td>4707.956783</td>\n",
       "      <td>2.498009</td>\n",
       "      <td>0.706476</td>\n",
       "      <td>6.126525</td>\n",
       "    </tr>\n",
       "    <tr>\n",
       "      <th>min</th>\n",
       "      <td>18.000000</td>\n",
       "      <td>1.000000</td>\n",
       "      <td>1.000000</td>\n",
       "      <td>1.000000</td>\n",
       "      <td>1.000000</td>\n",
       "      <td>1009.000000</td>\n",
       "      <td>0.000000</td>\n",
       "      <td>1.000000</td>\n",
       "      <td>0.000000</td>\n",
       "    </tr>\n",
       "    <tr>\n",
       "      <th>25%</th>\n",
       "      <td>30.000000</td>\n",
       "      <td>2.000000</td>\n",
       "      <td>2.000000</td>\n",
       "      <td>2.000000</td>\n",
       "      <td>2.000000</td>\n",
       "      <td>2911.000000</td>\n",
       "      <td>1.000000</td>\n",
       "      <td>2.000000</td>\n",
       "      <td>3.000000</td>\n",
       "    </tr>\n",
       "    <tr>\n",
       "      <th>50%</th>\n",
       "      <td>36.000000</td>\n",
       "      <td>7.000000</td>\n",
       "      <td>3.000000</td>\n",
       "      <td>3.000000</td>\n",
       "      <td>3.000000</td>\n",
       "      <td>4919.000000</td>\n",
       "      <td>2.000000</td>\n",
       "      <td>3.000000</td>\n",
       "      <td>5.000000</td>\n",
       "    </tr>\n",
       "    <tr>\n",
       "      <th>75%</th>\n",
       "      <td>43.000000</td>\n",
       "      <td>14.000000</td>\n",
       "      <td>4.000000</td>\n",
       "      <td>4.000000</td>\n",
       "      <td>4.000000</td>\n",
       "      <td>8379.000000</td>\n",
       "      <td>4.000000</td>\n",
       "      <td>3.000000</td>\n",
       "      <td>9.000000</td>\n",
       "    </tr>\n",
       "    <tr>\n",
       "      <th>max</th>\n",
       "      <td>60.000000</td>\n",
       "      <td>29.000000</td>\n",
       "      <td>5.000000</td>\n",
       "      <td>4.000000</td>\n",
       "      <td>4.000000</td>\n",
       "      <td>19999.000000</td>\n",
       "      <td>9.000000</td>\n",
       "      <td>4.000000</td>\n",
       "      <td>40.000000</td>\n",
       "    </tr>\n",
       "  </tbody>\n",
       "</table>\n",
       "</div>"
      ],
      "text/plain": [
       "               Age  DistanceFromHome    Education  EnvironmentSatisfaction  \\\n",
       "count  1470.000000       1470.000000  1470.000000              1470.000000   \n",
       "mean     36.923810          9.192517     2.912925                 2.721769   \n",
       "std       9.135373          8.106864     1.024165                 1.093082   \n",
       "min      18.000000          1.000000     1.000000                 1.000000   \n",
       "25%      30.000000          2.000000     2.000000                 2.000000   \n",
       "50%      36.000000          7.000000     3.000000                 3.000000   \n",
       "75%      43.000000         14.000000     4.000000                 4.000000   \n",
       "max      60.000000         29.000000     5.000000                 4.000000   \n",
       "\n",
       "       JobSatisfaction  MonthlyIncome  NumCompaniesWorked  WorkLifeBalance  \\\n",
       "count      1470.000000    1470.000000         1470.000000      1470.000000   \n",
       "mean          2.728571    6502.931293            2.693197         2.761224   \n",
       "std           1.102846    4707.956783            2.498009         0.706476   \n",
       "min           1.000000    1009.000000            0.000000         1.000000   \n",
       "25%           2.000000    2911.000000            1.000000         2.000000   \n",
       "50%           3.000000    4919.000000            2.000000         3.000000   \n",
       "75%           4.000000    8379.000000            4.000000         3.000000   \n",
       "max           4.000000   19999.000000            9.000000         4.000000   \n",
       "\n",
       "       YearsAtCompany  \n",
       "count     1470.000000  \n",
       "mean         7.008163  \n",
       "std          6.126525  \n",
       "min          0.000000  \n",
       "25%          3.000000  \n",
       "50%          5.000000  \n",
       "75%          9.000000  \n",
       "max         40.000000  "
      ]
     },
     "execution_count": 27,
     "metadata": {},
     "output_type": "execute_result"
    }
   ],
   "source": [
    "df.describe()"
   ]
  },
  {
   "cell_type": "code",
   "execution_count": 28,
   "id": "611cd862-ad3a-4c63-90cc-87aacf3224f3",
   "metadata": {},
   "outputs": [
    {
     "name": "stdout",
     "output_type": "stream",
     "text": [
      "<class 'pandas.core.frame.DataFrame'>\n",
      "RangeIndex: 1470 entries, 0 to 1469\n",
      "Data columns (total 13 columns):\n",
      " #   Column                   Non-Null Count  Dtype \n",
      "---  ------                   --------------  ----- \n",
      " 0   Age                      1470 non-null   int64 \n",
      " 1   Attrition                1470 non-null   object\n",
      " 2   Department               1470 non-null   object\n",
      " 3   DistanceFromHome         1470 non-null   int64 \n",
      " 4   Education                1470 non-null   int64 \n",
      " 5   EducationField           1470 non-null   object\n",
      " 6   EnvironmentSatisfaction  1470 non-null   int64 \n",
      " 7   JobSatisfaction          1470 non-null   int64 \n",
      " 8   MaritalStatus            1470 non-null   object\n",
      " 9   MonthlyIncome            1470 non-null   int64 \n",
      " 10  NumCompaniesWorked       1470 non-null   int64 \n",
      " 11  WorkLifeBalance          1470 non-null   int64 \n",
      " 12  YearsAtCompany           1470 non-null   int64 \n",
      "dtypes: int64(9), object(4)\n",
      "memory usage: 149.4+ KB\n"
     ]
    }
   ],
   "source": [
    "df.info()"
   ]
  },
  {
   "cell_type": "code",
   "execution_count": 29,
   "id": "572d0cd9-b5dc-41a4-9d2e-df9329b443bd",
   "metadata": {},
   "outputs": [
    {
     "data": {
      "text/plain": [
       "Index(['Age', 'Attrition', 'Department', 'DistanceFromHome', 'Education',\n",
       "       'EducationField', 'EnvironmentSatisfaction', 'JobSatisfaction',\n",
       "       'MaritalStatus', 'MonthlyIncome', 'NumCompaniesWorked',\n",
       "       'WorkLifeBalance', 'YearsAtCompany'],\n",
       "      dtype='object')"
      ]
     },
     "execution_count": 29,
     "metadata": {},
     "output_type": "execute_result"
    }
   ],
   "source": [
    "df.columns"
   ]
  },
  {
   "cell_type": "code",
   "execution_count": 30,
   "id": "481e6797-c0c6-4809-b0f1-ecb8324779c6",
   "metadata": {},
   "outputs": [
    {
     "name": "stderr",
     "output_type": "stream",
     "text": [
      "C:\\TEMP\\ipykernel_23448\\3390915376.py:1: FutureWarning: Dropping of nuisance columns in DataFrame reductions (with 'numeric_only=None') is deprecated; in a future version this will raise TypeError.  Select only valid columns before calling the reduction.\n",
      "  df.std()\n"
     ]
    },
    {
     "data": {
      "text/plain": [
       "Age                           9.135373\n",
       "DistanceFromHome              8.106864\n",
       "Education                     1.024165\n",
       "EnvironmentSatisfaction       1.093082\n",
       "JobSatisfaction               1.102846\n",
       "MonthlyIncome              4707.956783\n",
       "NumCompaniesWorked            2.498009\n",
       "WorkLifeBalance               0.706476\n",
       "YearsAtCompany                6.126525\n",
       "dtype: float64"
      ]
     },
     "execution_count": 30,
     "metadata": {},
     "output_type": "execute_result"
    }
   ],
   "source": [
    "df.std()"
   ]
  },
  {
   "cell_type": "code",
   "execution_count": 31,
   "id": "999921f0-8204-46f5-89f7-1bc0a9a477cb",
   "metadata": {},
   "outputs": [
    {
     "data": {
      "text/plain": [
       "No     1233\n",
       "Yes     237\n",
       "Name: Attrition, dtype: int64"
      ]
     },
     "execution_count": 31,
     "metadata": {},
     "output_type": "execute_result"
    }
   ],
   "source": [
    "df['Attrition'].value_counts()"
   ]
  },
  {
   "cell_type": "code",
   "execution_count": 32,
   "id": "3c05acd1-905c-4aa5-a02d-b390dafec4e5",
   "metadata": {},
   "outputs": [
    {
     "data": {
      "text/plain": [
       "dtype('O')"
      ]
     },
     "execution_count": 32,
     "metadata": {},
     "output_type": "execute_result"
    }
   ],
   "source": [
    "df['Attrition'].dtypes"
   ]
  },
  {
   "cell_type": "code",
   "execution_count": 33,
   "id": "9b5e6339-d8b5-4e8b-ac50-3d28612f4fc4",
   "metadata": {},
   "outputs": [],
   "source": [
    "df['Attrition'].replace('Yes',1, inplace=True)\n",
    "df['Attrition'].replace('No',0, inplace=True)"
   ]
  },
  {
   "cell_type": "code",
   "execution_count": 34,
   "id": "ca42b06e-a072-41c9-b7fb-6506eac9a2f8",
   "metadata": {},
   "outputs": [
    {
     "data": {
      "text/html": [
       "<div>\n",
       "<style scoped>\n",
       "    .dataframe tbody tr th:only-of-type {\n",
       "        vertical-align: middle;\n",
       "    }\n",
       "\n",
       "    .dataframe tbody tr th {\n",
       "        vertical-align: top;\n",
       "    }\n",
       "\n",
       "    .dataframe thead th {\n",
       "        text-align: right;\n",
       "    }\n",
       "</style>\n",
       "<table border=\"1\" class=\"dataframe\">\n",
       "  <thead>\n",
       "    <tr style=\"text-align: right;\">\n",
       "      <th></th>\n",
       "      <th>Age</th>\n",
       "      <th>Attrition</th>\n",
       "      <th>Department</th>\n",
       "      <th>DistanceFromHome</th>\n",
       "      <th>Education</th>\n",
       "      <th>EducationField</th>\n",
       "      <th>EnvironmentSatisfaction</th>\n",
       "      <th>JobSatisfaction</th>\n",
       "      <th>MaritalStatus</th>\n",
       "      <th>MonthlyIncome</th>\n",
       "      <th>NumCompaniesWorked</th>\n",
       "      <th>WorkLifeBalance</th>\n",
       "      <th>YearsAtCompany</th>\n",
       "    </tr>\n",
       "  </thead>\n",
       "  <tbody>\n",
       "    <tr>\n",
       "      <th>0</th>\n",
       "      <td>41</td>\n",
       "      <td>1</td>\n",
       "      <td>Sales</td>\n",
       "      <td>1</td>\n",
       "      <td>2</td>\n",
       "      <td>Life Sciences</td>\n",
       "      <td>2</td>\n",
       "      <td>4</td>\n",
       "      <td>Single</td>\n",
       "      <td>5993</td>\n",
       "      <td>8</td>\n",
       "      <td>1</td>\n",
       "      <td>6</td>\n",
       "    </tr>\n",
       "    <tr>\n",
       "      <th>1</th>\n",
       "      <td>49</td>\n",
       "      <td>0</td>\n",
       "      <td>Research &amp; Development</td>\n",
       "      <td>8</td>\n",
       "      <td>1</td>\n",
       "      <td>Life Sciences</td>\n",
       "      <td>3</td>\n",
       "      <td>2</td>\n",
       "      <td>Married</td>\n",
       "      <td>5130</td>\n",
       "      <td>1</td>\n",
       "      <td>3</td>\n",
       "      <td>10</td>\n",
       "    </tr>\n",
       "    <tr>\n",
       "      <th>2</th>\n",
       "      <td>37</td>\n",
       "      <td>1</td>\n",
       "      <td>Research &amp; Development</td>\n",
       "      <td>2</td>\n",
       "      <td>2</td>\n",
       "      <td>Other</td>\n",
       "      <td>4</td>\n",
       "      <td>3</td>\n",
       "      <td>Single</td>\n",
       "      <td>2090</td>\n",
       "      <td>6</td>\n",
       "      <td>3</td>\n",
       "      <td>0</td>\n",
       "    </tr>\n",
       "    <tr>\n",
       "      <th>3</th>\n",
       "      <td>33</td>\n",
       "      <td>0</td>\n",
       "      <td>Research &amp; Development</td>\n",
       "      <td>3</td>\n",
       "      <td>4</td>\n",
       "      <td>Life Sciences</td>\n",
       "      <td>4</td>\n",
       "      <td>3</td>\n",
       "      <td>Married</td>\n",
       "      <td>2909</td>\n",
       "      <td>1</td>\n",
       "      <td>3</td>\n",
       "      <td>8</td>\n",
       "    </tr>\n",
       "    <tr>\n",
       "      <th>4</th>\n",
       "      <td>27</td>\n",
       "      <td>0</td>\n",
       "      <td>Research &amp; Development</td>\n",
       "      <td>2</td>\n",
       "      <td>1</td>\n",
       "      <td>Medical</td>\n",
       "      <td>1</td>\n",
       "      <td>2</td>\n",
       "      <td>Married</td>\n",
       "      <td>3468</td>\n",
       "      <td>9</td>\n",
       "      <td>3</td>\n",
       "      <td>2</td>\n",
       "    </tr>\n",
       "    <tr>\n",
       "      <th>5</th>\n",
       "      <td>32</td>\n",
       "      <td>0</td>\n",
       "      <td>Research &amp; Development</td>\n",
       "      <td>2</td>\n",
       "      <td>2</td>\n",
       "      <td>Life Sciences</td>\n",
       "      <td>4</td>\n",
       "      <td>4</td>\n",
       "      <td>Single</td>\n",
       "      <td>3068</td>\n",
       "      <td>0</td>\n",
       "      <td>2</td>\n",
       "      <td>7</td>\n",
       "    </tr>\n",
       "    <tr>\n",
       "      <th>6</th>\n",
       "      <td>59</td>\n",
       "      <td>0</td>\n",
       "      <td>Research &amp; Development</td>\n",
       "      <td>3</td>\n",
       "      <td>3</td>\n",
       "      <td>Medical</td>\n",
       "      <td>3</td>\n",
       "      <td>1</td>\n",
       "      <td>Married</td>\n",
       "      <td>2670</td>\n",
       "      <td>4</td>\n",
       "      <td>2</td>\n",
       "      <td>1</td>\n",
       "    </tr>\n",
       "    <tr>\n",
       "      <th>7</th>\n",
       "      <td>30</td>\n",
       "      <td>0</td>\n",
       "      <td>Research &amp; Development</td>\n",
       "      <td>24</td>\n",
       "      <td>1</td>\n",
       "      <td>Life Sciences</td>\n",
       "      <td>4</td>\n",
       "      <td>3</td>\n",
       "      <td>Divorced</td>\n",
       "      <td>2693</td>\n",
       "      <td>1</td>\n",
       "      <td>3</td>\n",
       "      <td>1</td>\n",
       "    </tr>\n",
       "    <tr>\n",
       "      <th>8</th>\n",
       "      <td>38</td>\n",
       "      <td>0</td>\n",
       "      <td>Research &amp; Development</td>\n",
       "      <td>23</td>\n",
       "      <td>3</td>\n",
       "      <td>Life Sciences</td>\n",
       "      <td>4</td>\n",
       "      <td>3</td>\n",
       "      <td>Single</td>\n",
       "      <td>9526</td>\n",
       "      <td>0</td>\n",
       "      <td>3</td>\n",
       "      <td>9</td>\n",
       "    </tr>\n",
       "    <tr>\n",
       "      <th>9</th>\n",
       "      <td>36</td>\n",
       "      <td>0</td>\n",
       "      <td>Research &amp; Development</td>\n",
       "      <td>27</td>\n",
       "      <td>3</td>\n",
       "      <td>Medical</td>\n",
       "      <td>3</td>\n",
       "      <td>3</td>\n",
       "      <td>Married</td>\n",
       "      <td>5237</td>\n",
       "      <td>6</td>\n",
       "      <td>2</td>\n",
       "      <td>7</td>\n",
       "    </tr>\n",
       "  </tbody>\n",
       "</table>\n",
       "</div>"
      ],
      "text/plain": [
       "   Age  Attrition              Department  DistanceFromHome  Education  \\\n",
       "0   41          1                   Sales                 1          2   \n",
       "1   49          0  Research & Development                 8          1   \n",
       "2   37          1  Research & Development                 2          2   \n",
       "3   33          0  Research & Development                 3          4   \n",
       "4   27          0  Research & Development                 2          1   \n",
       "5   32          0  Research & Development                 2          2   \n",
       "6   59          0  Research & Development                 3          3   \n",
       "7   30          0  Research & Development                24          1   \n",
       "8   38          0  Research & Development                23          3   \n",
       "9   36          0  Research & Development                27          3   \n",
       "\n",
       "  EducationField  EnvironmentSatisfaction  JobSatisfaction MaritalStatus  \\\n",
       "0  Life Sciences                        2                4        Single   \n",
       "1  Life Sciences                        3                2       Married   \n",
       "2          Other                        4                3        Single   \n",
       "3  Life Sciences                        4                3       Married   \n",
       "4        Medical                        1                2       Married   \n",
       "5  Life Sciences                        4                4        Single   \n",
       "6        Medical                        3                1       Married   \n",
       "7  Life Sciences                        4                3      Divorced   \n",
       "8  Life Sciences                        4                3        Single   \n",
       "9        Medical                        3                3       Married   \n",
       "\n",
       "   MonthlyIncome  NumCompaniesWorked  WorkLifeBalance  YearsAtCompany  \n",
       "0           5993                   8                1               6  \n",
       "1           5130                   1                3              10  \n",
       "2           2090                   6                3               0  \n",
       "3           2909                   1                3               8  \n",
       "4           3468                   9                3               2  \n",
       "5           3068                   0                2               7  \n",
       "6           2670                   4                2               1  \n",
       "7           2693                   1                3               1  \n",
       "8           9526                   0                3               9  \n",
       "9           5237                   6                2               7  "
      ]
     },
     "execution_count": 34,
     "metadata": {},
     "output_type": "execute_result"
    }
   ],
   "source": [
    "df.head(10)\n"
   ]
  },
  {
   "cell_type": "code",
   "execution_count": 35,
   "id": "69ba5dbd-29d7-4ada-8297-cdf258c2cc48",
   "metadata": {},
   "outputs": [
    {
     "data": {
      "text/plain": [
       "0    1\n",
       "1    0\n",
       "2    1\n",
       "3    0\n",
       "4    0\n",
       "Name: Attrition, dtype: int64"
      ]
     },
     "execution_count": 35,
     "metadata": {},
     "output_type": "execute_result"
    }
   ],
   "source": [
    "# Building Up a Logistic Regression Model\n",
    "X = df.drop(['Attrition'],axis=1)\n",
    "X.head()\n",
    "Y = df['Attrition']\n",
    "Y.head()"
   ]
  },
  {
   "cell_type": "code",
   "execution_count": 36,
   "id": "c9a2dc82-68c3-46cb-93c3-2393bb1de9b6",
   "metadata": {},
   "outputs": [],
   "source": [
    "df['EducationField'].replace('Life Sciences',1, inplace=True)\n",
    "df['EducationField'].replace('Medical',2, inplace=True)\n",
    "df['EducationField'].replace('Marketing', 3, inplace=True)\n",
    "df['EducationField'].replace('Other',4, inplace=True)\n",
    "df['EducationField'].replace('Technical Degree',5, inplace=True)\n",
    "df['EducationField'].replace('Human Resources', 6, inplace=True)"
   ]
  },
  {
   "cell_type": "code",
   "execution_count": 37,
   "id": "2d13c759-5ed7-463b-a687-02b24cbc7dd8",
   "metadata": {},
   "outputs": [
    {
     "data": {
      "text/plain": [
       "1    606\n",
       "2    464\n",
       "3    159\n",
       "5    132\n",
       "4     82\n",
       "6     27\n",
       "Name: EducationField, dtype: int64"
      ]
     },
     "execution_count": 37,
     "metadata": {},
     "output_type": "execute_result"
    }
   ],
   "source": [
    "df['EducationField'].value_counts()"
   ]
  },
  {
   "cell_type": "code",
   "execution_count": 38,
   "id": "117551e7-ffd6-4f02-a59b-2c7d7ea9572a",
   "metadata": {},
   "outputs": [
    {
     "data": {
      "text/plain": [
       "Research & Development    961\n",
       "Sales                     446\n",
       "Human Resources            63\n",
       "Name: Department, dtype: int64"
      ]
     },
     "execution_count": 38,
     "metadata": {},
     "output_type": "execute_result"
    }
   ],
   "source": [
    "df['Department'].value_counts()"
   ]
  },
  {
   "cell_type": "code",
   "execution_count": 39,
   "id": "ab456030-d779-49a8-9516-1a7679f0e1e1",
   "metadata": {},
   "outputs": [],
   "source": [
    "df['Department'].replace('Research & Development',1, inplace=True)\n",
    "df['Department'].replace('Sales',2, inplace=True)\n",
    "df['Department'].replace('Human Resources', 3, inplace=True)"
   ]
  },
  {
   "cell_type": "code",
   "execution_count": 40,
   "id": "dea1355d-d09e-4484-902a-c88fd3060f6e",
   "metadata": {},
   "outputs": [
    {
     "data": {
      "text/plain": [
       "1    961\n",
       "2    446\n",
       "3     63\n",
       "Name: Department, dtype: int64"
      ]
     },
     "execution_count": 40,
     "metadata": {},
     "output_type": "execute_result"
    }
   ],
   "source": [
    "df['Department'].value_counts()"
   ]
  },
  {
   "cell_type": "code",
   "execution_count": 41,
   "id": "720589e2-790b-4ed1-90d2-d764f4a683ca",
   "metadata": {},
   "outputs": [
    {
     "data": {
      "text/plain": [
       "Married     673\n",
       "Single      470\n",
       "Divorced    327\n",
       "Name: MaritalStatus, dtype: int64"
      ]
     },
     "execution_count": 41,
     "metadata": {},
     "output_type": "execute_result"
    }
   ],
   "source": [
    "df['MaritalStatus'].value_counts()"
   ]
  },
  {
   "cell_type": "code",
   "execution_count": 42,
   "id": "b973e399-fdb5-4312-9159-9152a6c27056",
   "metadata": {},
   "outputs": [],
   "source": [
    "df['MaritalStatus'].replace('Married',1, inplace=True)\n",
    "df['MaritalStatus'].replace('Single',2, inplace=True)\n",
    "df['MaritalStatus'].replace('Divorced',3, inplace=True)"
   ]
  },
  {
   "cell_type": "code",
   "execution_count": 43,
   "id": "3fcc4756-ec49-4bb0-957e-d5b355e7aff2",
   "metadata": {},
   "outputs": [
    {
     "data": {
      "text/plain": [
       "1    673\n",
       "2    470\n",
       "3    327\n",
       "Name: MaritalStatus, dtype: int64"
      ]
     },
     "execution_count": 43,
     "metadata": {},
     "output_type": "execute_result"
    }
   ],
   "source": [
    "df['MaritalStatus'].value_counts()"
   ]
  },
  {
   "cell_type": "code",
   "execution_count": 44,
   "id": "78680eda-d58d-4227-88a9-079de31d1ca6",
   "metadata": {},
   "outputs": [
    {
     "data": {
      "text/plain": [
       "Age                        int64\n",
       "Attrition                  int64\n",
       "Department                 int64\n",
       "DistanceFromHome           int64\n",
       "Education                  int64\n",
       "EducationField             int64\n",
       "EnvironmentSatisfaction    int64\n",
       "JobSatisfaction            int64\n",
       "MaritalStatus              int64\n",
       "MonthlyIncome              int64\n",
       "NumCompaniesWorked         int64\n",
       "WorkLifeBalance            int64\n",
       "YearsAtCompany             int64\n",
       "dtype: object"
      ]
     },
     "execution_count": 44,
     "metadata": {},
     "output_type": "execute_result"
    }
   ],
   "source": [
    "x=df.select_dtypes(include=['int64'])\n",
    "x.dtypes"
   ]
  },
  {
   "cell_type": "code",
   "execution_count": 45,
   "id": "cd350138-6817-4a1c-863f-90ebd76b343c",
   "metadata": {},
   "outputs": [
    {
     "data": {
      "text/plain": [
       "Index(['Age', 'Attrition', 'Department', 'DistanceFromHome', 'Education',\n",
       "       'EducationField', 'EnvironmentSatisfaction', 'JobSatisfaction',\n",
       "       'MaritalStatus', 'MonthlyIncome', 'NumCompaniesWorked',\n",
       "       'WorkLifeBalance', 'YearsAtCompany'],\n",
       "      dtype='object')"
      ]
     },
     "execution_count": 45,
     "metadata": {},
     "output_type": "execute_result"
    }
   ],
   "source": [
    "x.columns"
   ]
  },
  {
   "cell_type": "code",
   "execution_count": 46,
   "id": "2310ce32-1fd3-407a-937a-5ed4c8b53c71",
   "metadata": {},
   "outputs": [],
   "source": [
    "y=df['Attrition']"
   ]
  },
  {
   "cell_type": "code",
   "execution_count": 47,
   "id": "4e75b896-3f9f-41de-81a5-7039a028432f",
   "metadata": {},
   "outputs": [
    {
     "data": {
      "text/plain": [
       "0    1\n",
       "1    0\n",
       "2    1\n",
       "3    0\n",
       "4    0\n",
       "Name: Attrition, dtype: int64"
      ]
     },
     "execution_count": 47,
     "metadata": {},
     "output_type": "execute_result"
    }
   ],
   "source": [
    "y.head()"
   ]
  },
  {
   "cell_type": "code",
   "execution_count": 48,
   "id": "0fc64b29-baa7-41a3-b85e-4ac5b2a29d01",
   "metadata": {},
   "outputs": [
    {
     "name": "stdout",
     "output_type": "stream",
     "text": [
      "Index(['Intercept', 'Age', 'Department', 'DistanceFromHome', 'Education',\n",
      "       'EducationField', 'YearsAtCompany'],\n",
      "      dtype='object')\n"
     ]
    }
   ],
   "source": [
    "y, x = dmatrices('Attrition ~ Age + Department + \\\n",
    "                  DistanceFromHome + Education + EducationField + YearsAtCompany',\n",
    "                  df, return_type=\"dataframe\")\n",
    "print (x.columns)"
   ]
  },
  {
   "cell_type": "code",
   "execution_count": 49,
   "id": "83660fad-cd2a-420e-b259-ce55871bad94",
   "metadata": {},
   "outputs": [
    {
     "data": {
      "text/html": [
       "<div>\n",
       "<style scoped>\n",
       "    .dataframe tbody tr th:only-of-type {\n",
       "        vertical-align: middle;\n",
       "    }\n",
       "\n",
       "    .dataframe tbody tr th {\n",
       "        vertical-align: top;\n",
       "    }\n",
       "\n",
       "    .dataframe thead th {\n",
       "        text-align: right;\n",
       "    }\n",
       "</style>\n",
       "<table border=\"1\" class=\"dataframe\">\n",
       "  <thead>\n",
       "    <tr style=\"text-align: right;\">\n",
       "      <th></th>\n",
       "      <th>Age</th>\n",
       "      <th>Attrition</th>\n",
       "      <th>Department</th>\n",
       "      <th>DistanceFromHome</th>\n",
       "      <th>Education</th>\n",
       "      <th>EducationField</th>\n",
       "      <th>EnvironmentSatisfaction</th>\n",
       "      <th>JobSatisfaction</th>\n",
       "      <th>MaritalStatus</th>\n",
       "      <th>MonthlyIncome</th>\n",
       "      <th>NumCompaniesWorked</th>\n",
       "      <th>WorkLifeBalance</th>\n",
       "      <th>YearsAtCompany</th>\n",
       "    </tr>\n",
       "  </thead>\n",
       "  <tbody>\n",
       "    <tr>\n",
       "      <th>Age</th>\n",
       "      <td>1.000000</td>\n",
       "      <td>-0.159205</td>\n",
       "      <td>-0.007652</td>\n",
       "      <td>-0.001686</td>\n",
       "      <td>0.208034</td>\n",
       "      <td>-0.028312</td>\n",
       "      <td>0.010146</td>\n",
       "      <td>-0.004892</td>\n",
       "      <td>-0.035466</td>\n",
       "      <td>0.497855</td>\n",
       "      <td>0.299635</td>\n",
       "      <td>-0.021490</td>\n",
       "      <td>0.311309</td>\n",
       "    </tr>\n",
       "    <tr>\n",
       "      <th>Attrition</th>\n",
       "      <td>-0.159205</td>\n",
       "      <td>1.000000</td>\n",
       "      <td>0.077351</td>\n",
       "      <td>0.077924</td>\n",
       "      <td>-0.031373</td>\n",
       "      <td>0.077232</td>\n",
       "      <td>-0.103369</td>\n",
       "      <td>-0.103481</td>\n",
       "      <td>0.011195</td>\n",
       "      <td>-0.159840</td>\n",
       "      <td>0.043494</td>\n",
       "      <td>-0.063939</td>\n",
       "      <td>-0.134392</td>\n",
       "    </tr>\n",
       "    <tr>\n",
       "      <th>Department</th>\n",
       "      <td>-0.007652</td>\n",
       "      <td>0.077351</td>\n",
       "      <td>1.000000</td>\n",
       "      <td>0.002196</td>\n",
       "      <td>0.019636</td>\n",
       "      <td>0.243641</td>\n",
       "      <td>-0.026110</td>\n",
       "      <td>-0.006231</td>\n",
       "      <td>-0.030818</td>\n",
       "      <td>0.056573</td>\n",
       "      <td>-0.011261</td>\n",
       "      <td>0.075507</td>\n",
       "      <td>0.029752</td>\n",
       "    </tr>\n",
       "    <tr>\n",
       "      <th>DistanceFromHome</th>\n",
       "      <td>-0.001686</td>\n",
       "      <td>0.077924</td>\n",
       "      <td>0.002196</td>\n",
       "      <td>1.000000</td>\n",
       "      <td>0.021042</td>\n",
       "      <td>0.004815</td>\n",
       "      <td>-0.016075</td>\n",
       "      <td>-0.003669</td>\n",
       "      <td>-0.021916</td>\n",
       "      <td>-0.017014</td>\n",
       "      <td>-0.029251</td>\n",
       "      <td>-0.026556</td>\n",
       "      <td>0.009508</td>\n",
       "    </tr>\n",
       "    <tr>\n",
       "      <th>Education</th>\n",
       "      <td>0.208034</td>\n",
       "      <td>-0.031373</td>\n",
       "      <td>0.019636</td>\n",
       "      <td>0.021042</td>\n",
       "      <td>1.000000</td>\n",
       "      <td>0.018328</td>\n",
       "      <td>-0.027128</td>\n",
       "      <td>-0.011296</td>\n",
       "      <td>-0.000107</td>\n",
       "      <td>0.094961</td>\n",
       "      <td>0.126317</td>\n",
       "      <td>0.009819</td>\n",
       "      <td>0.069114</td>\n",
       "    </tr>\n",
       "    <tr>\n",
       "      <th>EducationField</th>\n",
       "      <td>-0.028312</td>\n",
       "      <td>0.077232</td>\n",
       "      <td>0.243641</td>\n",
       "      <td>0.004815</td>\n",
       "      <td>0.018328</td>\n",
       "      <td>1.000000</td>\n",
       "      <td>0.045874</td>\n",
       "      <td>-0.044336</td>\n",
       "      <td>-0.023572</td>\n",
       "      <td>-0.013640</td>\n",
       "      <td>-0.002864</td>\n",
       "      <td>0.041927</td>\n",
       "      <td>-0.018000</td>\n",
       "    </tr>\n",
       "    <tr>\n",
       "      <th>EnvironmentSatisfaction</th>\n",
       "      <td>0.010146</td>\n",
       "      <td>-0.103369</td>\n",
       "      <td>-0.026110</td>\n",
       "      <td>-0.016075</td>\n",
       "      <td>-0.027128</td>\n",
       "      <td>0.045874</td>\n",
       "      <td>1.000000</td>\n",
       "      <td>-0.006784</td>\n",
       "      <td>0.022628</td>\n",
       "      <td>-0.006259</td>\n",
       "      <td>0.012594</td>\n",
       "      <td>0.027627</td>\n",
       "      <td>0.001458</td>\n",
       "    </tr>\n",
       "    <tr>\n",
       "      <th>JobSatisfaction</th>\n",
       "      <td>-0.004892</td>\n",
       "      <td>-0.103481</td>\n",
       "      <td>-0.006231</td>\n",
       "      <td>-0.003669</td>\n",
       "      <td>-0.011296</td>\n",
       "      <td>-0.044336</td>\n",
       "      <td>-0.006784</td>\n",
       "      <td>1.000000</td>\n",
       "      <td>-0.001494</td>\n",
       "      <td>-0.007157</td>\n",
       "      <td>-0.055699</td>\n",
       "      <td>-0.019459</td>\n",
       "      <td>-0.003803</td>\n",
       "    </tr>\n",
       "    <tr>\n",
       "      <th>MaritalStatus</th>\n",
       "      <td>-0.035466</td>\n",
       "      <td>0.011195</td>\n",
       "      <td>-0.030818</td>\n",
       "      <td>-0.021916</td>\n",
       "      <td>-0.000107</td>\n",
       "      <td>-0.023572</td>\n",
       "      <td>0.022628</td>\n",
       "      <td>-0.001494</td>\n",
       "      <td>1.000000</td>\n",
       "      <td>-0.018836</td>\n",
       "      <td>0.031652</td>\n",
       "      <td>-0.000751</td>\n",
       "      <td>-0.014779</td>\n",
       "    </tr>\n",
       "    <tr>\n",
       "      <th>MonthlyIncome</th>\n",
       "      <td>0.497855</td>\n",
       "      <td>-0.159840</td>\n",
       "      <td>0.056573</td>\n",
       "      <td>-0.017014</td>\n",
       "      <td>0.094961</td>\n",
       "      <td>-0.013640</td>\n",
       "      <td>-0.006259</td>\n",
       "      <td>-0.007157</td>\n",
       "      <td>-0.018836</td>\n",
       "      <td>1.000000</td>\n",
       "      <td>0.149515</td>\n",
       "      <td>0.030683</td>\n",
       "      <td>0.514285</td>\n",
       "    </tr>\n",
       "    <tr>\n",
       "      <th>NumCompaniesWorked</th>\n",
       "      <td>0.299635</td>\n",
       "      <td>0.043494</td>\n",
       "      <td>-0.011261</td>\n",
       "      <td>-0.029251</td>\n",
       "      <td>0.126317</td>\n",
       "      <td>-0.002864</td>\n",
       "      <td>0.012594</td>\n",
       "      <td>-0.055699</td>\n",
       "      <td>0.031652</td>\n",
       "      <td>0.149515</td>\n",
       "      <td>1.000000</td>\n",
       "      <td>-0.008366</td>\n",
       "      <td>-0.118421</td>\n",
       "    </tr>\n",
       "    <tr>\n",
       "      <th>WorkLifeBalance</th>\n",
       "      <td>-0.021490</td>\n",
       "      <td>-0.063939</td>\n",
       "      <td>0.075507</td>\n",
       "      <td>-0.026556</td>\n",
       "      <td>0.009819</td>\n",
       "      <td>0.041927</td>\n",
       "      <td>0.027627</td>\n",
       "      <td>-0.019459</td>\n",
       "      <td>-0.000751</td>\n",
       "      <td>0.030683</td>\n",
       "      <td>-0.008366</td>\n",
       "      <td>1.000000</td>\n",
       "      <td>0.012089</td>\n",
       "    </tr>\n",
       "    <tr>\n",
       "      <th>YearsAtCompany</th>\n",
       "      <td>0.311309</td>\n",
       "      <td>-0.134392</td>\n",
       "      <td>0.029752</td>\n",
       "      <td>0.009508</td>\n",
       "      <td>0.069114</td>\n",
       "      <td>-0.018000</td>\n",
       "      <td>0.001458</td>\n",
       "      <td>-0.003803</td>\n",
       "      <td>-0.014779</td>\n",
       "      <td>0.514285</td>\n",
       "      <td>-0.118421</td>\n",
       "      <td>0.012089</td>\n",
       "      <td>1.000000</td>\n",
       "    </tr>\n",
       "  </tbody>\n",
       "</table>\n",
       "</div>"
      ],
      "text/plain": [
       "                              Age  Attrition  Department  DistanceFromHome  \\\n",
       "Age                      1.000000  -0.159205   -0.007652         -0.001686   \n",
       "Attrition               -0.159205   1.000000    0.077351          0.077924   \n",
       "Department              -0.007652   0.077351    1.000000          0.002196   \n",
       "DistanceFromHome        -0.001686   0.077924    0.002196          1.000000   \n",
       "Education                0.208034  -0.031373    0.019636          0.021042   \n",
       "EducationField          -0.028312   0.077232    0.243641          0.004815   \n",
       "EnvironmentSatisfaction  0.010146  -0.103369   -0.026110         -0.016075   \n",
       "JobSatisfaction         -0.004892  -0.103481   -0.006231         -0.003669   \n",
       "MaritalStatus           -0.035466   0.011195   -0.030818         -0.021916   \n",
       "MonthlyIncome            0.497855  -0.159840    0.056573         -0.017014   \n",
       "NumCompaniesWorked       0.299635   0.043494   -0.011261         -0.029251   \n",
       "WorkLifeBalance         -0.021490  -0.063939    0.075507         -0.026556   \n",
       "YearsAtCompany           0.311309  -0.134392    0.029752          0.009508   \n",
       "\n",
       "                         Education  EducationField  EnvironmentSatisfaction  \\\n",
       "Age                       0.208034       -0.028312                 0.010146   \n",
       "Attrition                -0.031373        0.077232                -0.103369   \n",
       "Department                0.019636        0.243641                -0.026110   \n",
       "DistanceFromHome          0.021042        0.004815                -0.016075   \n",
       "Education                 1.000000        0.018328                -0.027128   \n",
       "EducationField            0.018328        1.000000                 0.045874   \n",
       "EnvironmentSatisfaction  -0.027128        0.045874                 1.000000   \n",
       "JobSatisfaction          -0.011296       -0.044336                -0.006784   \n",
       "MaritalStatus            -0.000107       -0.023572                 0.022628   \n",
       "MonthlyIncome             0.094961       -0.013640                -0.006259   \n",
       "NumCompaniesWorked        0.126317       -0.002864                 0.012594   \n",
       "WorkLifeBalance           0.009819        0.041927                 0.027627   \n",
       "YearsAtCompany            0.069114       -0.018000                 0.001458   \n",
       "\n",
       "                         JobSatisfaction  MaritalStatus  MonthlyIncome  \\\n",
       "Age                            -0.004892      -0.035466       0.497855   \n",
       "Attrition                      -0.103481       0.011195      -0.159840   \n",
       "Department                     -0.006231      -0.030818       0.056573   \n",
       "DistanceFromHome               -0.003669      -0.021916      -0.017014   \n",
       "Education                      -0.011296      -0.000107       0.094961   \n",
       "EducationField                 -0.044336      -0.023572      -0.013640   \n",
       "EnvironmentSatisfaction        -0.006784       0.022628      -0.006259   \n",
       "JobSatisfaction                 1.000000      -0.001494      -0.007157   \n",
       "MaritalStatus                  -0.001494       1.000000      -0.018836   \n",
       "MonthlyIncome                  -0.007157      -0.018836       1.000000   \n",
       "NumCompaniesWorked             -0.055699       0.031652       0.149515   \n",
       "WorkLifeBalance                -0.019459      -0.000751       0.030683   \n",
       "YearsAtCompany                 -0.003803      -0.014779       0.514285   \n",
       "\n",
       "                         NumCompaniesWorked  WorkLifeBalance  YearsAtCompany  \n",
       "Age                                0.299635        -0.021490        0.311309  \n",
       "Attrition                          0.043494        -0.063939       -0.134392  \n",
       "Department                        -0.011261         0.075507        0.029752  \n",
       "DistanceFromHome                  -0.029251        -0.026556        0.009508  \n",
       "Education                          0.126317         0.009819        0.069114  \n",
       "EducationField                    -0.002864         0.041927       -0.018000  \n",
       "EnvironmentSatisfaction            0.012594         0.027627        0.001458  \n",
       "JobSatisfaction                   -0.055699        -0.019459       -0.003803  \n",
       "MaritalStatus                      0.031652        -0.000751       -0.014779  \n",
       "MonthlyIncome                      0.149515         0.030683        0.514285  \n",
       "NumCompaniesWorked                 1.000000        -0.008366       -0.118421  \n",
       "WorkLifeBalance                   -0.008366         1.000000        0.012089  \n",
       "YearsAtCompany                    -0.118421         0.012089        1.000000  "
      ]
     },
     "execution_count": 49,
     "metadata": {},
     "output_type": "execute_result"
    }
   ],
   "source": [
    "# Correlation of the columns\n",
    "df.corr()"
   ]
  },
  {
   "cell_type": "code",
   "execution_count": 50,
   "id": "64b8e27b-2168-4203-91d5-7cb2b0b963d8",
   "metadata": {},
   "outputs": [
    {
     "data": {
      "text/plain": [
       "<AxesSubplot:>"
      ]
     },
     "execution_count": 50,
     "metadata": {},
     "output_type": "execute_result"
    },
    {
     "data": {
      "image/png": "[encoded data removed]",
      "text/plain": [
       "<Figure size 1296x576 with 2 Axes>"
      ]
     },
     "metadata": {
      "needs_background": "light"
     },
     "output_type": "display_data"
    }
   ],
   "source": [
    "# visualize the correlation\n",
    "plt.figure(figsize=(18,8))\n",
    "sns.heatmap(df.corr(), annot=True, fmt='.0%')"
   ]
  },
  {
   "cell_type": "code",
   "execution_count": 51,
   "id": "cf668cda-0b5f-46be-93c0-3aa8f3fdd13b",
   "metadata": {},
   "outputs": [],
   "source": [
    "y = np.ravel(y)"
   ]
  },
  {
   "cell_type": "code",
   "execution_count": 52,
   "id": "d27264de-683d-4c10-a8a8-1b889b1dde43",
   "metadata": {},
   "outputs": [
    {
     "data": {
      "text/plain": [
       "0.8408163265306122"
      ]
     },
     "execution_count": 52,
     "metadata": {},
     "output_type": "execute_result"
    }
   ],
   "source": [
    "from sklearn.linear_model import LogisticRegression\n",
    "\n",
    "model = LogisticRegression()\n",
    "model = model.fit(x, y)\n",
    "\n",
    "# check the accuracy on the training set\n",
    "model.score(x, y)"
   ]
  },
  {
   "cell_type": "code",
   "execution_count": 53,
   "id": "f5030aa2-c110-4854-91b3-3ad9dd9a608b",
   "metadata": {},
   "outputs": [
    {
     "data": {
      "text/plain": [
       "0.16122448979591836"
      ]
     },
     "execution_count": 53,
     "metadata": {},
     "output_type": "execute_result"
    }
   ],
   "source": [
    "y.mean()"
   ]
  },
  {
   "cell_type": "code",
   "execution_count": 54,
   "id": "a6b89630-2ce7-4355-b277-a985747b33bc",
   "metadata": {},
   "outputs": [
    {
     "data": {
      "text/plain": [
       "LogisticRegression()"
      ]
     },
     "execution_count": 54,
     "metadata": {},
     "output_type": "execute_result"
    }
   ],
   "source": [
    "X_train,X_test,y_train,y_test=sklearn.model_selection.train_test_split(x,y, test_size=0.3, random_state=0)\n",
    "model2=LogisticRegression()\n",
    "model2.fit(X_train, y_train)"
   ]
  },
  {
   "cell_type": "code",
   "execution_count": 55,
   "id": "dbeaf5ba-e97f-4b22-b6a1-0f58e9cf40aa",
   "metadata": {},
   "outputs": [
    {
     "name": "stdout",
     "output_type": "stream",
     "text": [
      "[0. 0. 0. 0. 0. 0. 0. 0. 0. 0. 0. 0. 0. 0. 0. 0. 0. 0. 0. 0. 0. 0. 0. 0.\n",
      " 0. 0. 0. 0. 0. 0. 0. 0. 0. 0. 0. 0. 0. 0. 0. 0. 0. 0. 0. 0. 0. 0. 0. 0.\n",
      " 0. 0. 0. 0. 0. 0. 0. 0. 0. 0. 0. 0. 0. 0. 0. 0. 0. 0. 0. 0. 0. 0. 0. 0.\n",
      " 0. 0. 0. 0. 0. 0. 0. 0. 0. 0. 0. 0. 0. 0. 0. 0. 0. 0. 0. 0. 0. 0. 0. 0.\n",
      " 0. 0. 0. 0. 0. 0. 0. 0. 0. 0. 0. 0. 0. 0. 0. 0. 0. 0. 0. 0. 0. 0. 0. 0.\n",
      " 0. 0. 0. 0. 0. 0. 0. 0. 0. 0. 0. 0. 0. 0. 0. 0. 0. 0. 0. 0. 0. 0. 0. 0.\n",
      " 0. 0. 0. 0. 0. 0. 0. 0. 0. 0. 0. 0. 0. 0. 0. 0. 0. 0. 0. 0. 0. 0. 0. 0.\n",
      " 0. 0. 0. 0. 0. 0. 0. 0. 0. 0. 0. 0. 0. 0. 0. 0. 0. 0. 0. 0. 0. 0. 0. 0.\n",
      " 0. 0. 0. 0. 0. 0. 0. 0. 0. 0. 0. 0. 0. 0. 0. 0. 0. 0. 0. 0. 0. 0. 0. 0.\n",
      " 0. 0. 0. 0. 0. 0. 0. 0. 0. 0. 0. 0. 0. 0. 0. 0. 0. 0. 0. 0. 0. 0. 0. 0.\n",
      " 0. 0. 0. 0. 0. 0. 0. 0. 0. 0. 0. 0. 0. 0. 0. 0. 0. 0. 0. 0. 0. 0. 0. 0.\n",
      " 0. 0. 0. 0. 0. 0. 0. 0. 0. 0. 0. 0. 0. 0. 0. 0. 0. 0. 0. 0. 0. 0. 0. 0.\n",
      " 0. 0. 0. 0. 0. 0. 0. 0. 0. 0. 0. 0. 0. 0. 0. 0. 0. 0. 0. 0. 0. 0. 0. 0.\n",
      " 0. 0. 0. 0. 0. 0. 0. 0. 1. 0. 0. 0. 0. 0. 0. 0. 0. 0. 0. 0. 0. 0. 0. 0.\n",
      " 0. 0. 0. 0. 0. 0. 0. 0. 0. 0. 0. 0. 0. 0. 0. 0. 0. 0. 0. 0. 0. 0. 0. 0.\n",
      " 0. 0. 0. 0. 0. 0. 0. 0. 0. 0. 0. 0. 0. 0. 0. 0. 0. 0. 0. 0. 0. 0. 0. 0.\n",
      " 0. 0. 0. 0. 0. 0. 0. 0. 0. 0. 0. 0. 0. 0. 0. 0. 0. 0. 0. 0. 0. 0. 0. 0.\n",
      " 0. 0. 0. 0. 0. 0. 0. 0. 0. 0. 0. 0. 0. 0. 0. 0. 0. 0. 0. 0. 0. 0. 0. 0.\n",
      " 0. 0. 0. 0. 0. 0. 0. 0. 0.]\n"
     ]
    }
   ],
   "source": [
    "predicted= model2.predict(X_test)\n",
    "print (predicted)"
   ]
  },
  {
   "cell_type": "code",
   "execution_count": 56,
   "id": "7f958dbf-634b-4883-82f8-8444dbd33013",
   "metadata": {},
   "outputs": [
    {
     "name": "stdout",
     "output_type": "stream",
     "text": [
      "[[0.86179625 0.13820375]\n",
      " [0.80754593 0.19245407]\n",
      " [0.74123938 0.25876062]\n",
      " [0.83441335 0.16558665]\n",
      " [0.73499938 0.26500062]\n",
      " [0.79097744 0.20902256]\n",
      " [0.85615198 0.14384802]\n",
      " [0.85699671 0.14300329]\n",
      " [0.96699056 0.03300944]\n",
      " [0.93685208 0.06314792]\n",
      " [0.95099275 0.04900725]\n",
      " [0.83101547 0.16898453]\n",
      " [0.86296555 0.13703445]\n",
      " [0.86581193 0.13418807]\n",
      " [0.88750601 0.11249399]\n",
      " [0.88892617 0.11107383]\n",
      " [0.88569724 0.11430276]\n",
      " [0.78516585 0.21483415]\n",
      " [0.7979449  0.2020551 ]\n",
      " [0.88511301 0.11488699]\n",
      " [0.70651596 0.29348404]\n",
      " [0.94676691 0.05323309]\n",
      " [0.86736254 0.13263746]\n",
      " [0.84276453 0.15723547]\n",
      " [0.6033685  0.3966315 ]\n",
      " [0.811292   0.188708  ]\n",
      " [0.91813729 0.08186271]\n",
      " [0.93285521 0.06714479]\n",
      " [0.68230761 0.31769239]\n",
      " [0.87027136 0.12972864]\n",
      " [0.87266384 0.12733616]\n",
      " [0.7696874  0.2303126 ]\n",
      " [0.86435769 0.13564231]\n",
      " [0.95758879 0.04241121]\n",
      " [0.84461485 0.15538515]\n",
      " [0.8671935  0.1328065 ]\n",
      " [0.90465979 0.09534021]\n",
      " [0.68936427 0.31063573]\n",
      " [0.90703616 0.09296384]\n",
      " [0.80663477 0.19336523]\n",
      " [0.91515724 0.08484276]\n",
      " [0.82351275 0.17648725]\n",
      " [0.93711514 0.06288486]\n",
      " [0.93411324 0.06588676]\n",
      " [0.89447653 0.10552347]\n",
      " [0.85317747 0.14682253]\n",
      " [0.78922388 0.21077612]\n",
      " [0.84879887 0.15120113]\n",
      " [0.66402457 0.33597543]\n",
      " [0.76252297 0.23747703]\n",
      " [0.92851109 0.07148891]\n",
      " [0.78953697 0.21046303]\n",
      " [0.86166595 0.13833405]\n",
      " [0.85837887 0.14162113]\n",
      " [0.87217673 0.12782327]\n",
      " [0.78950898 0.21049102]\n",
      " [0.87690792 0.12309208]\n",
      " [0.84165447 0.15834553]\n",
      " [0.72847152 0.27152848]\n",
      " [0.83181407 0.16818593]\n",
      " [0.90095035 0.09904965]\n",
      " [0.71077332 0.28922668]\n",
      " [0.92823021 0.07176979]\n",
      " [0.84375681 0.15624319]\n",
      " [0.79544108 0.20455892]\n",
      " [0.86826159 0.13173841]\n",
      " [0.91679451 0.08320549]\n",
      " [0.84763056 0.15236944]\n",
      " [0.89253707 0.10746293]\n",
      " [0.62872121 0.37127879]\n",
      " [0.9387539  0.0612461 ]\n",
      " [0.72620334 0.27379666]\n",
      " [0.85652974 0.14347026]\n",
      " [0.84226022 0.15773978]\n",
      " [0.77436391 0.22563609]\n",
      " [0.71899557 0.28100443]\n",
      " [0.93587386 0.06412614]\n",
      " [0.95710069 0.04289931]\n",
      " [0.79185841 0.20814159]\n",
      " [0.89370438 0.10629562]\n",
      " [0.91382038 0.08617962]\n",
      " [0.7935459  0.2064541 ]\n",
      " [0.77934023 0.22065977]\n",
      " [0.79638992 0.20361008]\n",
      " [0.83800496 0.16199504]\n",
      " [0.71395671 0.28604329]\n",
      " [0.97772715 0.02227285]\n",
      " [0.94645972 0.05354028]\n",
      " [0.88617624 0.11382376]\n",
      " [0.79620164 0.20379836]\n",
      " [0.61863835 0.38136165]\n",
      " [0.81866469 0.18133531]\n",
      " [0.74504131 0.25495869]\n",
      " [0.86779495 0.13220505]\n",
      " [0.87071139 0.12928861]\n",
      " [0.81717471 0.18282529]\n",
      " [0.71840764 0.28159236]\n",
      " [0.59825898 0.40174102]\n",
      " [0.83951549 0.16048451]\n",
      " [0.88351325 0.11648675]\n",
      " [0.7435258  0.2564742 ]\n",
      " [0.76631615 0.23368385]\n",
      " [0.98033036 0.01966964]\n",
      " [0.91857466 0.08142534]\n",
      " [0.7743284  0.2256716 ]\n",
      " [0.92514814 0.07485186]\n",
      " [0.88123383 0.11876617]\n",
      " [0.74587179 0.25412821]\n",
      " [0.90478361 0.09521639]\n",
      " [0.78685526 0.21314474]\n",
      " [0.8114777  0.1885223 ]\n",
      " [0.93472171 0.06527829]\n",
      " [0.93836502 0.06163498]\n",
      " [0.79411745 0.20588255]\n",
      " [0.81372902 0.18627098]\n",
      " [0.91610918 0.08389082]\n",
      " [0.90428343 0.09571657]\n",
      " [0.84669423 0.15330577]\n",
      " [0.95384551 0.04615449]\n",
      " [0.91283691 0.08716309]\n",
      " [0.85919602 0.14080398]\n",
      " [0.85902499 0.14097501]\n",
      " [0.87519518 0.12480482]\n",
      " [0.7611467  0.2388533 ]\n",
      " [0.92217685 0.07782315]\n",
      " [0.96859409 0.03140591]\n",
      " [0.94398218 0.05601782]\n",
      " [0.81780292 0.18219708]\n",
      " [0.88058703 0.11941297]\n",
      " [0.77894284 0.22105716]\n",
      " [0.97124464 0.02875536]\n",
      " [0.88807661 0.11192339]\n",
      " [0.78715261 0.21284739]\n",
      " [0.82001482 0.17998518]\n",
      " [0.94934542 0.05065458]\n",
      " [0.95888932 0.04111068]\n",
      " [0.73559223 0.26440777]\n",
      " [0.93416995 0.06583005]\n",
      " [0.73750636 0.26249364]\n",
      " [0.8213675  0.1786325 ]\n",
      " [0.821712   0.178288  ]\n",
      " [0.89896703 0.10103297]\n",
      " [0.78745762 0.21254238]\n",
      " [0.89825348 0.10174652]\n",
      " [0.91433817 0.08566183]\n",
      " [0.92724744 0.07275256]\n",
      " [0.96594965 0.03405035]\n",
      " [0.94417364 0.05582636]\n",
      " [0.93073081 0.06926919]\n",
      " [0.66320585 0.33679415]\n",
      " [0.84168651 0.15831349]\n",
      " [0.82636817 0.17363183]\n",
      " [0.80616639 0.19383361]\n",
      " [0.96157632 0.03842368]\n",
      " [0.93515159 0.06484841]\n",
      " [0.94778624 0.05221376]\n",
      " [0.97337825 0.02662175]\n",
      " [0.79297057 0.20702943]\n",
      " [0.87770194 0.12229806]\n",
      " [0.86103662 0.13896338]\n",
      " [0.95185478 0.04814522]\n",
      " [0.93131494 0.06868506]\n",
      " [0.75685359 0.24314641]\n",
      " [0.74997802 0.25002198]\n",
      " [0.95527865 0.04472135]\n",
      " [0.8695072  0.1304928 ]\n",
      " [0.81376769 0.18623231]\n",
      " [0.76990617 0.23009383]\n",
      " [0.80077911 0.19922089]\n",
      " [0.9280112  0.0719888 ]\n",
      " [0.90949245 0.09050755]\n",
      " [0.94557626 0.05442374]\n",
      " [0.93330465 0.06669535]\n",
      " [0.69145908 0.30854092]\n",
      " [0.93056881 0.06943119]\n",
      " [0.74525426 0.25474574]\n",
      " [0.78594343 0.21405657]\n",
      " [0.933086   0.066914  ]\n",
      " [0.8087829  0.1912171 ]\n",
      " [0.85096457 0.14903543]\n",
      " [0.66956281 0.33043719]\n",
      " [0.90338379 0.09661621]\n",
      " [0.91158931 0.08841069]\n",
      " [0.87300498 0.12699502]\n",
      " [0.92939055 0.07060945]\n",
      " [0.66661725 0.33338275]\n",
      " [0.89098513 0.10901487]\n",
      " [0.86216707 0.13783293]\n",
      " [0.78838555 0.21161445]\n",
      " [0.53099616 0.46900384]\n",
      " [0.73344328 0.26655672]\n",
      " [0.71053983 0.28946017]\n",
      " [0.85530492 0.14469508]\n",
      " [0.86960595 0.13039405]\n",
      " [0.75470006 0.24529994]\n",
      " [0.89823512 0.10176488]\n",
      " [0.79247841 0.20752159]\n",
      " [0.9064314  0.0935686 ]\n",
      " [0.77650778 0.22349222]\n",
      " [0.88387788 0.11612212]\n",
      " [0.8540431  0.1459569 ]\n",
      " [0.81899362 0.18100638]\n",
      " [0.74448518 0.25551482]\n",
      " [0.86259434 0.13740566]\n",
      " [0.77822625 0.22177375]\n",
      " [0.76928325 0.23071675]\n",
      " [0.79679228 0.20320772]\n",
      " [0.92096591 0.07903409]\n",
      " [0.7457377  0.2542623 ]\n",
      " [0.87499226 0.12500774]\n",
      " [0.85503288 0.14496712]\n",
      " [0.77292156 0.22707844]\n",
      " [0.87227273 0.12772727]\n",
      " [0.67395356 0.32604644]\n",
      " [0.93621663 0.06378337]\n",
      " [0.82479478 0.17520522]\n",
      " [0.95146046 0.04853954]\n",
      " [0.8346245  0.1653755 ]\n",
      " [0.81106478 0.18893522]\n",
      " [0.80828257 0.19171743]\n",
      " [0.87664152 0.12335848]\n",
      " [0.66786996 0.33213004]\n",
      " [0.59616853 0.40383147]\n",
      " [0.98979364 0.01020636]\n",
      " [0.706344   0.293656  ]\n",
      " [0.91633089 0.08366911]\n",
      " [0.92133474 0.07866526]\n",
      " [0.71383909 0.28616091]\n",
      " [0.62453949 0.37546051]\n",
      " [0.76440578 0.23559422]\n",
      " [0.95401652 0.04598348]\n",
      " [0.88186723 0.11813277]\n",
      " [0.860199   0.139801  ]\n",
      " [0.92117379 0.07882621]\n",
      " [0.88019167 0.11980833]\n",
      " [0.8045143  0.1954857 ]\n",
      " [0.80585183 0.19414817]\n",
      " [0.91345491 0.08654509]\n",
      " [0.72101811 0.27898189]\n",
      " [0.94508002 0.05491998]\n",
      " [0.90906906 0.09093094]\n",
      " [0.73381751 0.26618249]\n",
      " [0.98109184 0.01890816]\n",
      " [0.85490449 0.14509551]\n",
      " [0.89817069 0.10182931]\n",
      " [0.82436993 0.17563007]\n",
      " [0.83387097 0.16612903]\n",
      " [0.88136645 0.11863355]\n",
      " [0.88031307 0.11968693]\n",
      " [0.87560622 0.12439378]\n",
      " [0.816172   0.183828  ]\n",
      " [0.88028846 0.11971154]\n",
      " [0.61530839 0.38469161]\n",
      " [0.88826156 0.11173844]\n",
      " [0.89692812 0.10307188]\n",
      " [0.85328926 0.14671074]\n",
      " [0.98297041 0.01702959]\n",
      " [0.77341241 0.22658759]\n",
      " [0.62184883 0.37815117]\n",
      " [0.82739135 0.17260865]\n",
      " [0.84083339 0.15916661]\n",
      " [0.84808607 0.15191393]\n",
      " [0.84937028 0.15062972]\n",
      " [0.75540991 0.24459009]\n",
      " [0.86188858 0.13811142]\n",
      " [0.90684688 0.09315312]\n",
      " [0.84663273 0.15336727]\n",
      " [0.81290905 0.18709095]\n",
      " [0.7405358  0.2594642 ]\n",
      " [0.87035276 0.12964724]\n",
      " [0.83938092 0.16061908]\n",
      " [0.86267949 0.13732051]\n",
      " [0.663629   0.336371  ]\n",
      " [0.90671715 0.09328285]\n",
      " [0.87056296 0.12943704]\n",
      " [0.9258079  0.0741921 ]\n",
      " [0.84386854 0.15613146]\n",
      " [0.89878141 0.10121859]\n",
      " [0.91239494 0.08760506]\n",
      " [0.79867634 0.20132366]\n",
      " [0.64052599 0.35947401]\n",
      " [0.84683943 0.15316057]\n",
      " [0.75503197 0.24496803]\n",
      " [0.85264544 0.14735456]\n",
      " [0.99251432 0.00748568]\n",
      " [0.86138215 0.13861785]\n",
      " [0.8814014  0.1185986 ]\n",
      " [0.82757086 0.17242914]\n",
      " [0.93027074 0.06972926]\n",
      " [0.87307443 0.12692557]\n",
      " [0.88802397 0.11197603]\n",
      " [0.8375332  0.1624668 ]\n",
      " [0.8648103  0.1351897 ]\n",
      " [0.86515549 0.13484451]\n",
      " [0.8975479  0.1024521 ]\n",
      " [0.78409081 0.21590919]\n",
      " [0.79165113 0.20834887]\n",
      " [0.88388123 0.11611877]\n",
      " [0.65418956 0.34581044]\n",
      " [0.94059378 0.05940622]\n",
      " [0.89913435 0.10086565]\n",
      " [0.72525616 0.27474384]\n",
      " [0.69085518 0.30914482]\n",
      " [0.8759163  0.1240837 ]\n",
      " [0.86562246 0.13437754]\n",
      " [0.97508876 0.02491124]\n",
      " [0.86265127 0.13734873]\n",
      " [0.54036074 0.45963926]\n",
      " [0.91302274 0.08697726]\n",
      " [0.74609588 0.25390412]\n",
      " [0.86758147 0.13241853]\n",
      " [0.88852756 0.11147244]\n",
      " [0.87911718 0.12088282]\n",
      " [0.85664964 0.14335036]\n",
      " [0.77281961 0.22718039]\n",
      " [0.80713981 0.19286019]\n",
      " [0.85285506 0.14714494]\n",
      " [0.77595544 0.22404456]\n",
      " [0.70409841 0.29590159]\n",
      " [0.88971656 0.11028344]\n",
      " [0.48963092 0.51036908]\n",
      " [0.92370649 0.07629351]\n",
      " [0.75572312 0.24427688]\n",
      " [0.67788862 0.32211138]\n",
      " [0.91301004 0.08698996]\n",
      " [0.94029213 0.05970787]\n",
      " [0.88009787 0.11990213]\n",
      " [0.88591167 0.11408833]\n",
      " [0.95656826 0.04343174]\n",
      " [0.89909423 0.10090577]\n",
      " [0.94784647 0.05215353]\n",
      " [0.83255775 0.16744225]\n",
      " [0.87822139 0.12177861]\n",
      " [0.819458   0.180542  ]\n",
      " [0.81668786 0.18331214]\n",
      " [0.95036169 0.04963831]\n",
      " [0.86940138 0.13059862]\n",
      " [0.90541598 0.09458402]\n",
      " [0.83661188 0.16338812]\n",
      " [0.84583649 0.15416351]\n",
      " [0.79307978 0.20692022]\n",
      " [0.81808124 0.18191876]\n",
      " [0.81598411 0.18401589]\n",
      " [0.83677557 0.16322443]\n",
      " [0.91443033 0.08556967]\n",
      " [0.91533087 0.08466913]\n",
      " [0.68503447 0.31496553]\n",
      " [0.99073758 0.00926242]\n",
      " [0.76795009 0.23204991]\n",
      " [0.79871926 0.20128074]\n",
      " [0.7317683  0.2682317 ]\n",
      " [0.67465193 0.32534807]\n",
      " [0.7971246  0.2028754 ]\n",
      " [0.84935619 0.15064381]\n",
      " [0.86467084 0.13532916]\n",
      " [0.85844152 0.14155848]\n",
      " [0.84533263 0.15466737]\n",
      " [0.83038801 0.16961199]\n",
      " [0.92192753 0.07807247]\n",
      " [0.8318972  0.1681028 ]\n",
      " [0.97707551 0.02292449]\n",
      " [0.90418232 0.09581768]\n",
      " [0.92691201 0.07308799]\n",
      " [0.84797357 0.15202643]\n",
      " [0.76712573 0.23287427]\n",
      " [0.94895156 0.05104844]\n",
      " [0.94782087 0.05217913]\n",
      " [0.75181508 0.24818492]\n",
      " [0.8788047  0.1211953 ]\n",
      " [0.80770784 0.19229216]\n",
      " [0.93864301 0.06135699]\n",
      " [0.86008492 0.13991508]\n",
      " [0.76056702 0.23943298]\n",
      " [0.90892473 0.09107527]\n",
      " [0.75402141 0.24597859]\n",
      " [0.94271842 0.05728158]\n",
      " [0.9182732  0.0817268 ]\n",
      " [0.90545128 0.09454872]\n",
      " [0.76879458 0.23120542]\n",
      " [0.92358137 0.07641863]\n",
      " [0.8070588  0.1929412 ]\n",
      " [0.90079528 0.09920472]\n",
      " [0.87933329 0.12066671]\n",
      " [0.80585694 0.19414306]\n",
      " [0.83150058 0.16849942]\n",
      " [0.53816775 0.46183225]\n",
      " [0.95031824 0.04968176]\n",
      " [0.73291905 0.26708095]\n",
      " [0.89182872 0.10817128]\n",
      " [0.80079856 0.19920144]\n",
      " [0.87739805 0.12260195]\n",
      " [0.96805231 0.03194769]\n",
      " [0.81741597 0.18258403]\n",
      " [0.8615009  0.1384991 ]\n",
      " [0.59407557 0.40592443]\n",
      " [0.82625732 0.17374268]\n",
      " [0.92534976 0.07465024]\n",
      " [0.81692204 0.18307796]\n",
      " [0.92586783 0.07413217]\n",
      " [0.890946   0.109054  ]\n",
      " [0.70071759 0.29928241]\n",
      " [0.82181894 0.17818106]\n",
      " [0.9658994  0.0341006 ]\n",
      " [0.86996989 0.13003011]\n",
      " [0.89918549 0.10081451]\n",
      " [0.88983804 0.11016196]\n",
      " [0.81432462 0.18567538]\n",
      " [0.85830038 0.14169962]\n",
      " [0.83878654 0.16121346]\n",
      " [0.84056579 0.15943421]\n",
      " [0.8266117  0.1733883 ]\n",
      " [0.94075167 0.05924833]\n",
      " [0.83183533 0.16816467]\n",
      " [0.77561355 0.22438645]\n",
      " [0.69399543 0.30600457]\n",
      " [0.85962129 0.14037871]\n",
      " [0.82513942 0.17486058]\n",
      " [0.84107715 0.15892285]\n",
      " [0.87191015 0.12808985]\n",
      " [0.89447653 0.10552347]\n",
      " [0.82945349 0.17054651]\n",
      " [0.72856797 0.27143203]\n",
      " [0.94692821 0.05307179]\n",
      " [0.96074299 0.03925701]\n",
      " [0.90500199 0.09499801]\n",
      " [0.88599989 0.11400011]\n",
      " [0.84865642 0.15134358]\n",
      " [0.79086975 0.20913025]\n",
      " [0.6730297  0.3269703 ]\n",
      " [0.93390208 0.06609792]\n",
      " [0.65644883 0.34355117]\n",
      " [0.7438285  0.2561715 ]\n",
      " [0.94248413 0.05751587]\n",
      " [0.78365674 0.21634326]\n",
      " [0.90655666 0.09344334]\n",
      " [0.81578727 0.18421273]\n",
      " [0.89149736 0.10850264]\n",
      " [0.85791873 0.14208127]\n",
      " [0.67453857 0.32546143]\n",
      " [0.93130395 0.06869605]\n",
      " [0.89999984 0.10000016]]\n"
     ]
    }
   ],
   "source": [
    "probs = model2.predict_proba(X_test)\n",
    "print (probs)"
   ]
  },
  {
   "cell_type": "code",
   "execution_count": 57,
   "id": "eab21816-ae24-462a-bde3-67122b41b871",
   "metadata": {},
   "outputs": [
    {
     "name": "stdout",
     "output_type": "stream",
     "text": [
      "0.8435374149659864\n",
      "0.6502502887947632\n"
     ]
    }
   ],
   "source": [
    "from sklearn import metrics\n",
    "\n",
    "print (metrics.accuracy_score(y_test, predicted))\n",
    "print (metrics.roc_auc_score(y_test, probs[:, 1]))"
   ]
  },
  {
   "cell_type": "code",
   "execution_count": 58,
   "id": "ac23fdab-e08f-4bc4-9a66-82f8c3973a91",
   "metadata": {},
   "outputs": [
    {
     "name": "stdout",
     "output_type": "stream",
     "text": [
      "[[371   0]\n",
      " [ 69   1]]\n",
      "              precision    recall  f1-score   support\n",
      "\n",
      "         0.0       0.84      1.00      0.91       371\n",
      "         1.0       1.00      0.01      0.03        70\n",
      "\n",
      "    accuracy                           0.84       441\n",
      "   macro avg       0.92      0.51      0.47       441\n",
      "weighted avg       0.87      0.84      0.77       441\n",
      "\n"
     ]
    }
   ],
   "source": [
    "print (metrics.confusion_matrix(y_test, predicted))\n",
    "print (metrics.classification_report(y_test, predicted))"
   ]
  },
  {
   "cell_type": "code",
   "execution_count": 59,
   "id": "f3d589b6-b080-411d-bec0-847058d7773b",
   "metadata": {},
   "outputs": [
    {
     "name": "stdout",
     "output_type": "stream",
     "text": [
      "      Intercept   Age  Department  DistanceFromHome  Education  \\\n",
      "338         1.0  30.0         2.0               5.0        3.0   \n",
      "363         1.0  33.0         2.0               5.0        3.0   \n",
      "759         1.0  45.0         3.0              24.0        4.0   \n",
      "793         1.0  28.0         1.0              15.0        2.0   \n",
      "581         1.0  30.0         1.0               1.0        3.0   \n",
      "...         ...   ...         ...               ...        ...   \n",
      "763         1.0  34.0         2.0              10.0        4.0   \n",
      "835         1.0  35.0         3.0               8.0        4.0   \n",
      "1216        1.0  43.0         2.0               2.0        3.0   \n",
      "559         1.0  38.0         1.0               2.0        5.0   \n",
      "684         1.0  40.0         2.0              10.0        4.0   \n",
      "\n",
      "      EducationField  YearsAtCompany  \n",
      "338              3.0            10.0  \n",
      "363              3.0             1.0  \n",
      "759              2.0             6.0  \n",
      "793              1.0             4.0  \n",
      "581              1.0             2.0  \n",
      "...              ...             ...  \n",
      "763              1.0             1.0  \n",
      "835              5.0             5.0  \n",
      "1216             2.0            10.0  \n",
      "559              2.0             1.0  \n",
      "684              3.0             1.0  \n",
      "\n",
      "[1029 rows x 7 columns]\n"
     ]
    }
   ],
   "source": [
    "print (X_train)"
   ]
  },
  {
   "cell_type": "code",
   "execution_count": 60,
   "id": "ad759425-297e-4f06-bd1c-636b11ee9948",
   "metadata": {},
   "outputs": [
    {
     "name": "stdout",
     "output_type": "stream",
     "text": [
      "Feature: 0, Score: 0.00060\n",
      "Feature: 1, Score: 0.04095\n",
      "Feature: 2, Score: 0.29101\n",
      "Feature: 3, Score: 0.02636\n",
      "Feature: 4, Score: 0.01227\n",
      "Feature: 5, Score: 0.10509\n",
      "Feature: 6, Score: 0.06505\n"
     ]
    }
   ],
   "source": [
    "importance = np.abs(model.coef_[0])\n",
    "for i,v in enumerate(importance):\n",
    "    print('Feature: %0d, Score: %.5f' % (i,v))"
   ]
  },
  {
   "cell_type": "code",
   "execution_count": 61,
   "id": "ca6136e8-80de-49bd-b581-52ad96df52e9",
   "metadata": {},
   "outputs": [
    {
     "name": "stdout",
     "output_type": "stream",
     "text": [
      "Coefficients: [ 8.02109869e-01 -4.71500832e-06]\n",
      "Feature Importance: [8.02109869e-01 4.71500832e-06]\n"
     ]
    }
   ],
   "source": [
    "from sklearn.linear_model import LogisticRegression\n",
    "import numpy as np\n",
    "\n",
    "# Define your input features and target variable\n",
    "X = [[0, 1], [1, 0], [1, 1], [0, 0]]\n",
    "y = [0, 1, 1, 0]\n",
    "\n",
    "# Initialize and fit the logistic regression model\n",
    "clf = LogisticRegression(random_state=0).fit(X, y)\n",
    "\n",
    "# Obtain the coefficients and feature importance\n",
    "coefficients = clf.coef_[0]\n",
    "importance = np.abs(coefficients)\n",
    "\n",
    "# Print the results\n",
    "print(\"Coefficients:\", coefficients)\n",
    "print(\"Feature Importance:\", importance)"
   ]
  },
  {
   "cell_type": "code",
   "execution_count": 62,
   "id": "8317f051-e9de-40ef-970c-79249addfea3",
   "metadata": {},
   "outputs": [
    {
     "name": "stdout",
     "output_type": "stream",
     "text": [
      "[[6.25571910e-07 9.99999374e-01]]\n"
     ]
    },
    {
     "name": "stderr",
     "output_type": "stream",
     "text": [
      "C:\\Users\\Imran\\anaconda3\\lib\\site-packages\\sklearn\\base.py:450: UserWarning: X does not have valid feature names, but LogisticRegression was fitted with feature names\n",
      "  warnings.warn(\n"
     ]
    }
   ],
   "source": [
    "# Add random values to KK according to the parameters mentioned above to check the proability of Attrition of the Employee\n",
    "kk=[[1.0, 23.0, 1.0, 500.0, 3.0, 24.0, 1.0]]\n",
    "print(model.predict_proba(kk))"
   ]
  }
 ],
 "metadata": {
  "kernelspec": {
   "display_name": "Python 3 (ipykernel)",
   "language": "python",
   "name": "python3"
  },
  "language_info": {
   "codemirror_mode": {
    "name": "ipython",
    "version": 3
   },
   "file_extension": ".py",
   "mimetype": "text/x-python",
   "name": "python",
   "nbconvert_exporter": "python",
   "pygments_lexer": "ipython3",
   "version": "3.9.12"
  }
 },
 "nbformat": 4,
 "nbformat_minor": 5
}
